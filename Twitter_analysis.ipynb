{
 "cells": [
  {
   "cell_type": "code",
   "execution_count": 24,
   "metadata": {
    "collapsed": true
   },
   "outputs": [],
   "source": [
    "import string\n",
    "import operator\n",
    "import sys"
   ]
  },
  {
   "cell_type": "code",
   "execution_count": 48,
   "metadata": {
    "collapsed": true
   },
   "outputs": [],
   "source": [
    "def mostUsers():\n",
    "    INPUTFILE = input(\"Enter the file path: \")\n",
    "    INPUT_FILE_PATH = INPUTFILE+ '.txt'\n",
    "\n",
    "    with open (INPUT_FILE_PATH, encoding = \"latin-1\") as myFile:\n",
    "        twitter=myFile.readlines()\n",
    "    l = {}\n",
    "    for dat in twitter:\n",
    "       \n",
    "        fileTemp = dat.split()\n",
    "        if fileTemp[0] in l:\n",
    "            l[fileTemp[0]] +=1\n",
    "        else:\n",
    "            l[fileTemp[0]] = 1\n",
    "    l = sorted(l.items(), key = operator.itemgetter(1), reverse = True)\n",
    " \n",
    "    outputFile = open('C:/Users/Bhargav Nallani/Documents/SSDI/twitter/MostUsers.txt', 'w', encoding = \"utf-8\")\n",
    "    outputFile.write(\"The top 10 users who have tweeted the most for the entire timeline: \\n\")\n",
    "    for i in range (0,10):\n",
    "        outputFile.write(\"The user \" + l[i][0] + \" tweeted \" + str(l[i][1]) + \" times\" + \"\\n\")\n",
    "            \n",
    "    outputFile.close\n",
    "    print (\"success\")"
   ]
  },
  {
   "cell_type": "code",
   "execution_count": 49,
   "metadata": {},
   "outputs": [
    {
     "name": "stdout",
     "output_type": "stream",
     "text": [
      "Enter the file path: turtle\n",
      "success\n"
     ]
    }
   ],
   "source": [
    "mostUsers()\n"
   ]
  },
  {
   "cell_type": "code",
   "execution_count": 50,
   "metadata": {},
   "outputs": [],
   "source": [
    "def mostUsersPerHour():\n",
    "    INPUTFILE = input(\"Enter the file path: \")\n",
    "    INPUT_FILE_PATH = INPUTFILE + '.txt'\n",
    "\n",
    "    with open(INPUT_FILE_PATH, encoding=\"latin-1\") as myFile:\n",
    "        data = myFile.readlines()\n",
    "\n",
    "    l = {}\n",
    "    for dat in data:\n",
    "        fileTemp = dat.split()\n",
    "        fileTemp2 = fileTemp[1].split(\":\")\n",
    "        twitterTemp = fileTemp[0] + \" \" + fileTemp2[1]\n",
    "        if twitterTemp in l:\n",
    "            l[twitterTemp] += 1\n",
    "        else:\n",
    "            l[twitterTemp] = 1\n",
    "    l = sorted(l.items(), key=operator.itemgetter(1), reverse=True)\n",
    "\n",
    "    l2 = {}\n",
    "    totalNumPostsInFile = 0\n",
    "    for dat in l:\n",
    "        totalNumPostsInFile += 1\n",
    "        if (dat[0].split()[1]) in l2:\n",
    "            l2[dat[0].split()[1]] += 1\n",
    "        else:\n",
    "            l2[dat[0].split()[1]] = 1\n",
    "    l2 = sorted(l2.items(), key=operator.itemgetter(1))\n",
    "\n",
    "    totalEntriesToPrint = 10 * len(l2)\n",
    "    outputFile = open('C:/Users/Bhargav Nallani/Documents/SSDI/twitter/MostUsersPerHour.txt', 'w',\n",
    "                      encoding='utf-8')\n",
    "\n",
    "    for x in range(0, len(l2)):\n",
    "\n",
    "        mSearch = 10\n",
    "\n",
    "        for dat in l:\n",
    "            if mSearch == 0:\n",
    "                break\n",
    "            if dat[0].split()[1] == l2[x][0]:\n",
    "                outputFile.write(\"Username: \" + dat[0].split()[0] + \"\\n Hour: \" + l2[x][0] + \"\\n\")\n",
    "\n",
    "                mSearch -= 1\n",
    "    outputFile.close"
   ]
  },
  {
   "cell_type": "code",
   "execution_count": 52,
   "metadata": {},
   "outputs": [
    {
     "name": "stdout",
     "output_type": "stream",
     "text": [
      "Enter the file path: shooting\n"
     ]
    }
   ],
   "source": [
    "mostUsersPerHour()"
   ]
  },
  {
   "cell_type": "code",
   "execution_count": 41,
   "metadata": {
    "collapsed": true
   },
   "outputs": [],
   "source": [
    "def maxFollowers():\n",
    "    INPUTFILE = input(\"Enter the file path: \")\n",
    "    INPUT_FILE_PATH = INPUTFILE + '.txt'\n",
    "\n",
    "    with open(INPUT_FILE_PATH, encoding=\"latin-1\") as myFile:\n",
    "        twitter = myFile.readlines()\n",
    "\n",
    "    l = {}\n",
    "    for dat in twitter:\n",
    "        fileTemp = dat.split()\n",
    "        if fileTemp[0] not in l:\n",
    "            l[fileTemp[0]] = int(fileTemp[-2])\n",
    "\n",
    "    l = sorted(l.items(), key=operator.itemgetter(1), reverse=True)\n",
    "    outputFile = open('C:/Users/Bhargav Nallani/Documents/SSDI/twitter/MaxFollowers.txt', 'w',\n",
    "                      encoding=\"utf-8\")\n",
    "    outputFile.write(\"The top 10 users who has the maximum followers: \" + \"\\n\\n\")\n",
    "\n",
    "    for i in range(0, 10):\n",
    "        outputFile.write(str(i + 1) + \". Username: \" + l[i][0] + \" -> Number of Followers: \" + str(l[i][1]) + \"\\n\\n\")\n",
    "    outputFile.close\n"
   ]
  },
  {
   "cell_type": "code",
   "execution_count": 42,
   "metadata": {},
   "outputs": [
    {
     "name": "stdout",
     "output_type": "stream",
     "text": [
      "Enter the file path: turtle\n"
     ]
    }
   ],
   "source": [
    "maxFollowers()"
   ]
  },
  {
   "cell_type": "code",
   "execution_count": 44,
   "metadata": {
    "collapsed": true
   },
   "outputs": [],
   "source": [
    "def maxRetweet():\n",
    "    INPUTFILE = input(\"Enter the file path:  \")\n",
    "    INPUT_FILE_PATH = INPUTFILE + '.txt'\n",
    "\n",
    "    with open(INPUT_FILE_PATH, encoding=\"latin-1\") as myFile:\n",
    "        twitter = myFile.readlines()\n",
    "\n",
    "    l = {}\n",
    "    for dat in twitter:\n",
    "\n",
    "        fileTemp = dat.split()\n",
    "        y = len(fileTemp) - 2\n",
    "        tweet = \"\\\"\"\n",
    "        for x in range(4, y):\n",
    "            tweet += fileTemp[x] + \" \"\n",
    "        tweet += \" ::::;:::: \" + fileTemp[0]\n",
    "\n",
    "        if tweet not in l:\n",
    "            l[tweet] = int(fileTemp[-1])\n",
    "\n",
    "    outputFile = open('C:/Users/Bhargav Nallani/Documents/SSDI/twitter/MaxRetweets.txt', 'w', encoding=\"utf-8\")\n",
    "    l = sorted(l.items(), key=operator.itemgetter(1), reverse=True)\n",
    "    outputFile.write(\"The top 10 tweets that has the max no of retweets : \" + \"\\n\\n\")\n",
    "\n",
    "    for x in range(0, 10):\n",
    "        outputFile.write(str(x + 1) + \". Username: \" + l[x][0].split()[-1] + \"\\n Tweet: \" +\n",
    "                         l[x][0].split(\"::::;::::\")[0] + \"\\n No of retweets: \" + str(l[x][1]) + \"\\n\\n\")\n",
    "    outputFile.close"
   ]
  },
  {
   "cell_type": "code",
   "execution_count": 47,
   "metadata": {},
   "outputs": [
    {
     "name": "stdout",
     "output_type": "stream",
     "text": [
      "Enter the file path:  turtle\n"
     ]
    }
   ],
   "source": [
    "maxRetweet()"
   ]
  },
  {
   "cell_type": "code",
   "execution_count": null,
   "metadata": {
    "collapsed": true
   },
   "outputs": [],
   "source": []
  }
 ],
 "metadata": {
  "kernelspec": {
   "display_name": "Python 3",
   "language": "python",
   "name": "python3"
  },
  "language_info": {
   "codemirror_mode": {
    "name": "ipython",
    "version": 3
   },
   "file_extension": ".py",
   "mimetype": "text/x-python",
   "name": "python",
   "nbconvert_exporter": "python",
   "pygments_lexer": "ipython3",
   "version": "3.6.3"
  }
 },
 "nbformat": 4,
 "nbformat_minor": 2
}
