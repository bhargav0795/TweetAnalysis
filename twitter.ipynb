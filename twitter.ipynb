{
 "cells": [
  {
   "cell_type": "code",
   "execution_count": 1,
   "metadata": {
    "collapsed": true
   },
   "outputs": [],
   "source": [
    "import tweepy\n",
    "import time"
   ]
  },
  {
   "cell_type": "code",
   "execution_count": 2,
   "metadata": {
    "collapsed": true
   },
   "outputs": [],
   "source": [
    "ACCESS_TOKEN = '1046541733750853639-b9yLh7dlYrOdlRFkaf7lfBpeyH27e1'\n",
    "ACCESS_SECRET = 'WQI8Ikbz1OznuNAtqjlBWTEpqTitNCBx630hCz6Jggzth'\n",
    "CONSUMER_KEY = 't1tXHODZiVbdxAVa1Dl6IQ8Yd'\n",
    "CONSUMER_SECRET = 'dwmKqc84eFnAisYdfmmKPxWYXQpxS6F9cW1wfWe1doyH3tIcJb'"
   ]
  },
  {
   "cell_type": "code",
   "execution_count": 13,
   "metadata": {},
   "outputs": [
    {
     "name": "stdout",
     "output_type": "stream",
     "text": [
      "Enter the search stringshooting\n"
     ]
    }
   ],
   "source": [
    "SEARCH=input(\"Enter the search string\")"
   ]
  },
  {
   "cell_type": "code",
   "execution_count": 4,
   "metadata": {},
   "outputs": [
    {
     "name": "stdout",
     "output_type": "stream",
     "text": [
      "Enter the from date (YYYY-MM-DD format)2018-09-25\n"
     ]
    }
   ],
   "source": [
    "FROM=input(\"Enter the from date (YYYY-MM-DD format)\")"
   ]
  },
  {
   "cell_type": "code",
   "execution_count": 17,
   "metadata": {},
   "outputs": [
    {
     "name": "stdout",
     "output_type": "stream",
     "text": [
      "Enter the to data (YYYY-MM-DD format) 2018-09-30\n"
     ]
    }
   ],
   "source": [
    "TO=input(\"Enter the to data (YYYY-MM-DD format) \")\n",
    "INPUT_FILE_PATH= 'C:/Users/Bhargav Nallani/Documents/SSDI/twitter/'+SEARCH+'.txt'"
   ]
  },
  {
   "cell_type": "code",
   "execution_count": 18,
   "metadata": {},
   "outputs": [
    {
     "name": "stdout",
     "output_type": "stream",
     "text": [
      "Enter the number of tweets you want to retrieve for the search string300\n"
     ]
    }
   ],
   "source": [
    "num=int(input(\"Enter the number of tweets you want to retrieve for the search string\"))\n",
    "auth = tweepy.auth.OAuthHandler(CONSUMER_KEY, CONSUMER_SECRET)\n",
    "auth.set_access_token(ACCESS_TOKEN, ACCESS_SECRET)\n",
    "api = tweepy.API(auth)\n",
    "i=0;\n"
   ]
  },
  {
   "cell_type": "code",
   "execution_count": 19,
   "metadata": {
    "collapsed": true
   },
   "outputs": [],
   "source": [
    "f = open(INPUT_FILE_PATH, 'w', encoding='utf-8')"
   ]
  },
  {
   "cell_type": "code",
   "execution_count": 20,
   "metadata": {},
   "outputs": [
    {
     "name": "stdout",
     "output_type": "stream",
     "text": [
      "Tweets retrieved  300\n"
     ]
    }
   ],
   "source": [
    "for res in tweepy.Cursor(api.search, q=SEARCH, rpp=100, count=20, result_type=\"recent\", since = FROM,until =TO, include_entities=True, lang=\"en\").items(num):\n",
    "\ti+=1\n",
    "\tf.write(res.user.screen_name)\n",
    "\tf.write(' ')\n",
    "\tf.write('[')\n",
    "\tf.write(res.created_at.strftime(\"%d/%b/%Y:%H:%M:%S %Z\"))\n",
    "\tf.write(']')\t\n",
    "\tf.write(\" \")\n",
    "\tf.write('\"')\n",
    "\tf.write(res.text.replace('\\n',''))\n",
    "\tf.write('\"')\n",
    "\tf.write(\" \")\n",
    "\tf.write(str(res.user.followers_count))\n",
    "\tf.write(\" \")\n",
    "\tf.write(str(res.retweet_count))\n",
    "\tf.write('\\n')\n",
    "f.close\n",
    "\n",
    "print(\"Tweets retrieved \",i)"
   ]
  },
  {
   "cell_type": "code",
   "execution_count": null,
   "metadata": {
    "collapsed": true
   },
   "outputs": [],
   "source": []
  }
 ],
 "metadata": {
  "kernelspec": {
   "display_name": "Python 3",
   "language": "python",
   "name": "python3"
  },
  "language_info": {
   "codemirror_mode": {
    "name": "ipython",
    "version": 3
   },
   "file_extension": ".py",
   "mimetype": "text/x-python",
   "name": "python",
   "nbconvert_exporter": "python",
   "pygments_lexer": "ipython3",
   "version": "3.6.3"
  }
 },
 "nbformat": 4,
 "nbformat_minor": 2
}
